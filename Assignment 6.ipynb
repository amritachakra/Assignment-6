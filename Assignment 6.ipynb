{
 "cells": [
  {
   "cell_type": "raw",
   "metadata": {},
   "source": [
    "Q1) What are escape characters, and how do you use them?\n",
    "Ans To insert characters that are illegal in a string, use an escape character. An escape character is a backslash \\ followed by the character you want to insert.\n",
    "\n",
    "\n",
    "Q2) What do the escape characters n and t stand for?\n",
    "Ans  \"\\t\" is a tab, \"\\n\" is a newline\n",
    "\n",
    "Q3) What is the way to include backslash characters in a string?\n",
    "Ans The \\\\ escape character will represent the backslash character in a string.\n",
    "\n",
    "Q4) The string &quot;Howl&#39;s Moving Castle&quot; is a correct value. Why isn&#39;t the single quote character in the\n",
    "word Howl&#39;s not escaped a problem?\n",
    " Ans The string \"Howl's Moving Castle\" escaped the problem because it is wrapped inside double quotes. if its wrapped inside single quotes then we have to use escape character \\' to show single quote in the final output\n",
    "'Howl\\'s Moving Castle' -> 'Howl's Moving Castle'\n",
    "\n",
    "\n",
    "Q5) How do you write a string of newlines if you don&#39;t want to use the n character?\n",
    "Ans Multiline string allow you to use newlines in string without the \\n escape character"
   ]
  },
  {
   "cell_type": "code",
   "execution_count": 1,
   "metadata": {},
   "outputs": [
    {
     "name": "stdout",
     "output_type": "stream",
     "text": [
      "ineuron Data science \n",
      "Bootcamp\n"
     ]
    }
   ],
   "source": [
    "#eg.\n",
    "a= '''ineuron Data science \n",
    "Bootcamp'''\n",
    "print (a)"
   ]
  },
  {
   "cell_type": "raw",
   "metadata": {},
   "source": [
    "Q6) What are the values of the given expressions?\n"
   ]
  },
  {
   "cell_type": "raw",
   "metadata": {},
   "source": [
    "&#39;Hello, world!&#39;[1]\n",
    "&#39;Hello, world!&#39;[0:5]\n",
    "&#39;Hello, world!&#39;[:5]\n",
    "&#39;Hello, world!&#39;[3:]"
   ]
  },
  {
   "cell_type": "raw",
   "metadata": {},
   "source": [
    "Ans: The values for the given expressions are:\n",
    "'Hello, world!'[1] -> 'e'\n",
    "'Hello, world!'[0:5] -> 'Hello'\n",
    "'Hello, world!'[:5] -> 'Hello'\n",
    "'Hello, world!'[3:] -> 'lo, world!'"
   ]
  },
  {
   "cell_type": "raw",
   "metadata": {},
   "source": [
    "Q7) What are the values of the following expressions?\n",
    "\n",
    "'Hello'.upper()\n",
    "'Hello'.upper().isupper()\n",
    "'Hello'.upper().lower()\n",
    "\n",
    "Ans: The values for the given expressions are:\n",
    "'Hello'.upper() -> 'HELLO'\n",
    "'Hello'.upper().isupper() -> True\n",
    "'Hello'.upper().lower() -> 'hello'\n",
    "\n",
    "\n",
    "Q8)What are the values of the following expressions?\n",
    "&#39;Remember, remember, the fifth of July.&#39;.split()\n",
    "&#39;-&#39;.join(&#39;There can only one.&#39;.split())\n",
    "\n",
    "Ans The values for the given expressions are:\n",
    "'Remember, remember, the fifith of July.'.split() -> ['Remember,', 'remember,', 'the', 'fifith', 'of', 'July.']\n",
    "'-'.join('There can only one'.split()) -> 'There-can-only-one'\n",
    "\n",
    "\n",
    "Q9) What are the methods for right-justifying, left-justifying, and centering a string?\n",
    "Ans The rjust(),ljust(),center() string methods, respectively.\n",
    "\n",
    "\n",
    "Q10) What is the best way to remove whitespace characters from the start or end?\n",
    "Ans The lstrip() and rstrip() methods remove whitesapce characters from the left and right ends of a string respectively."
   ]
  }
 ],
 "metadata": {
  "kernelspec": {
   "display_name": "Python 3",
   "language": "python",
   "name": "python3"
  },
  "language_info": {
   "codemirror_mode": {
    "name": "ipython",
    "version": 3
   },
   "file_extension": ".py",
   "mimetype": "text/x-python",
   "name": "python",
   "nbconvert_exporter": "python",
   "pygments_lexer": "ipython3",
   "version": "3.6.5"
  }
 },
 "nbformat": 4,
 "nbformat_minor": 2
}
